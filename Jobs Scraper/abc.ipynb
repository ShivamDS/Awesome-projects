{
 "cells": [
  {
   "cell_type": "code",
   "execution_count": null,
   "id": "aef28a20",
   "metadata": {},
   "outputs": [],
   "source": [
    "import requests\n",
    "from bs4 import BeautifulSoup\n",
    "import time\n",
    "\n",
    "def scrape_indeed(keyword=\"data\", location=\"India\", pages=1):\n",
    "    headers = {\"User-Agent\": \"Mozilla/5.0\"}\n",
    "    all_jobs = []\n",
    "\n",
    "    for page in range(pages):\n",
    "        url = f\"https://www.indeed.com/jobs?q={keyword}&l={location}&start={page * 10}\"\n",
    "        soup = BeautifulSoup(requests.get(url, headers=headers).text, \"html.parser\")\n",
    "\n",
    "        for job_card in soup.select(\".result\"):\n",
    "            title_tag = job_card.find(\"h2\")\n",
    "            title = title_tag.text.strip() if title_tag else \"\"\n",
    "\n",
    "            company_tag = job_card.find(\"span\", class_=\"companyName\")\n",
    "            company = company_tag.text.strip() if company_tag else \"\"\n",
    "\n",
    "            link_tag = job_card.find(\"a\", href=True)\n",
    "            link = \"https://www.indeed.com\" + link_tag[\"href\"] if link_tag else \"\"\n",
    "\n",
    "            all_jobs.append({\n",
    "                \"source\": \"Indeed\",\n",
    "                \"title\": title,\n",
    "                \"company\": company,\n",
    "                \"link\": link\n",
    "            })\n",
    "        time.sleep(1)\n",
    "    return all_jobs\n"
   ]
  },
  {
   "cell_type": "code",
   "execution_count": null,
   "id": "e10a5d8a",
   "metadata": {},
   "outputs": [],
   "source": []
  },
  {
   "cell_type": "code",
   "execution_count": null,
   "id": "cd28c2b8",
   "metadata": {},
   "outputs": [],
   "source": []
  },
  {
   "cell_type": "code",
   "execution_count": null,
   "id": "96b1d1da",
   "metadata": {},
   "outputs": [],
   "source": []
  },
  {
   "cell_type": "code",
   "execution_count": null,
   "id": "ee3fe127",
   "metadata": {},
   "outputs": [],
   "source": []
  },
  {
   "cell_type": "code",
   "execution_count": null,
   "id": "6528b4e9",
   "metadata": {},
   "outputs": [],
   "source": []
  },
  {
   "cell_type": "code",
   "execution_count": null,
   "id": "72975cde",
   "metadata": {},
   "outputs": [],
   "source": []
  },
  {
   "cell_type": "code",
   "execution_count": null,
   "id": "d653e5ca",
   "metadata": {},
   "outputs": [],
   "source": []
  },
  {
   "cell_type": "code",
   "execution_count": null,
   "id": "e7d1f89c",
   "metadata": {},
   "outputs": [],
   "source": []
  },
  {
   "cell_type": "code",
   "execution_count": null,
   "id": "29c108cb",
   "metadata": {},
   "outputs": [],
   "source": []
  },
  {
   "cell_type": "code",
   "execution_count": null,
   "id": "cdb4ff14",
   "metadata": {},
   "outputs": [],
   "source": []
  },
  {
   "cell_type": "code",
   "execution_count": null,
   "id": "9a1ca9d0",
   "metadata": {},
   "outputs": [],
   "source": []
  },
  {
   "cell_type": "code",
   "execution_count": null,
   "id": "983fecf7",
   "metadata": {},
   "outputs": [],
   "source": [
    "spaces = 3\n",
    "stars = 1\n",
    "n = 7\n",
    "\n",
    "while stars != n:\n",
    "  print((\" \" * spaces) + (\"*\" * stars) + (\" \" * spaces))\n",
    "  spaces = spaces - 1\n",
    "  stars = stars + 2\n",
    "\n",
    "print((\" \" * spaces) + (\"*\" * stars) + (\" \" * spaces))"
   ]
  },
  {
   "cell_type": "code",
   "execution_count": null,
   "id": "b6e3fd7d",
   "metadata": {},
   "outputs": [],
   "source": []
  },
  {
   "cell_type": "code",
   "execution_count": null,
   "id": "71a0524f",
   "metadata": {},
   "outputs": [],
   "source": [
    "\n",
    "spaces = 6\n",
    "stars = 1\n",
    "n = 7\n",
    "\n",
    "while stars != n:\n",
    "    print((\" \" * spaces) + (\"*\" * stars))\n",
    "    spaces = spaces - 1\n",
    "    stars = stars + 1\n",
    "\n",
    "print((\" \" * spaces) + (\"*\" * stars))"
   ]
  },
  {
   "cell_type": "code",
   "execution_count": null,
   "id": "04cc4ae4",
   "metadata": {},
   "outputs": [],
   "source": []
  },
  {
   "cell_type": "code",
   "execution_count": null,
   "id": "288f1deb",
   "metadata": {},
   "outputs": [],
   "source": [
    "spaces = 6\n",
    "stars = 1\n",
    "n = 7\n",
    "\n",
    "while stars != n:\n",
    "    print((\" \" * spaces) + (\"*\" * stars))\n",
    "    spaces = spaces - 1\n",
    "    stars = stars + 1\n",
    "\n",
    "while stars != 0:\n",
    "    print((\" \" * spaces) + (\"*\" * stars))\n",
    "    spaces = spaces + 1\n",
    "    stars = stars - 1\n",
    "\n",
    "print((\" \" * spaces) + (\"*\" * stars))"
   ]
  },
  {
   "cell_type": "code",
   "execution_count": null,
   "id": "4fb3c309",
   "metadata": {},
   "outputs": [],
   "source": []
  },
  {
   "cell_type": "code",
   "execution_count": null,
   "id": "ee05fab9",
   "metadata": {},
   "outputs": [],
   "source": [
    "spaces = 6\n",
    "stars = 1\n",
    "n = 7\n",
    "\n",
    "while stars != n:\n",
    "    print(\" \" * spaces + \"*\" * stars + \" \" * spaces)\n",
    "    spaces = spaces - 1\n",
    "    stars = stars + 2\n",
    "\n",
    "while stars != 0:\n",
    "    print(\" \" * spaces + \"*\" * stars + \" \" * spaces)\n",
    "    spaces = spaces + 1\n",
    "    stars = stars - 2"
   ]
  }
 ],
 "metadata": {
  "language_info": {
   "name": "python"
  }
 },
 "nbformat": 4,
 "nbformat_minor": 5
}
