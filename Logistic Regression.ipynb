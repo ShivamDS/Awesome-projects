{
 "cells": [
  {
   "cell_type": "code",
   "execution_count": null,
   "metadata": {},
   "outputs": [],
   "source": [
    "import numpy as np"
   ]
  },
  {
   "cell_type": "markdown",
   "metadata": {},
   "source": [
    "## Workflow of Logistic Regression model\n",
    "\n",
    "Step 1: Set learning rate and number of iterations; initiate random weight and bias value.\n",
    "\n",
    "Step 2: Build Logistic Regression function (sigmoid function).\n",
    "\n",
    "Step 3: Update the parameters using Gradient Descent.\n",
    "Finally, we will get the best model (best weight and bias value) as it has minimum cost function.\n",
    "\n",
    "Step 4: Build the Predict funtion to determine the class of a data point."
   ]
  },
  {
   "cell_type": "code",
   "execution_count": null,
   "metadata": {},
   "outputs": [],
   "source": [
    "class Logistic_Regression():\n",
    "\n",
    "    # initializing function and declaring learning rate and number of iterations (hyperparameters)\n",
    "    def __init__(self, learning_rate, no_of_iterations):\n",
    "\n",
    "        self.learning_rate = learning_rate\n",
    "        self.no_of_iterations = no_of_iterations\n",
    "\n",
    "    # fit function to train the model with some dataset\n",
    "    def fit(self, X, Y):\n",
    "\n",
    "        # number of data points in the dataset (number of rows) --> m\n",
    "        # number of input features in the dataset (number of columns) --> n\n",
    "        self.m, self.n = X.shape\n",
    "\n",
    "        # initiating weight and bias value\n",
    "        self.w = np.zeros(self.n)        # gives an array of size n\n",
    "        self.b = 0\n",
    "\n",
    "        self.X = X\n",
    "        self.Y = Y\n",
    "\n",
    "        # implementing gradient descent for optimisation\n",
    "        for i in range(no_of_iterations):\n",
    "            self.update_weights()\n",
    "\n",
    "\n",
    "    def update_weights(self):\n",
    "\n",
    "        # sigmoid function\n",
    "        z = self.X.dot(self.w) + self.b\n",
    "        Y_hat = 1 / (1 + np.exp(-z))\n",
    "\n",
    "        # derivatives\n",
    "        dw = ()\n",
    "\n",
    "         \n",
    "\n",
    "\n",
    "\n",
    "    def predict(self):"
   ]
  }
 ],
 "metadata": {
  "kernelspec": {
   "display_name": "Python 3",
   "language": "python",
   "name": "python3"
  },
  "language_info": {
   "codemirror_mode": {
    "name": "ipython",
    "version": 3
   },
   "file_extension": ".py",
   "mimetype": "text/x-python",
   "name": "python",
   "nbconvert_exporter": "python",
   "pygments_lexer": "ipython3",
   "version": "3.13.2"
  }
 },
 "nbformat": 4,
 "nbformat_minor": 2
}
