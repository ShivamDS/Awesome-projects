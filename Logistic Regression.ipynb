{
 "cells": [
  {
   "cell_type": "code",
   "execution_count": 10,
   "metadata": {},
   "outputs": [],
   "source": [
    "import numpy as np"
   ]
  },
  {
   "cell_type": "markdown",
   "metadata": {},
   "source": [
    "## Workflow of Logistic Regression model\n",
    "\n",
    "Step 1: Set learning rate and number of iterations; initiate random weight and bias value.\n",
    "\n",
    "Step 2: Build Logistic Regression function (sigmoid function).\n",
    "\n",
    "Step 3: Update the parameters using Gradient Descent.\n",
    "Finally, we will get the best model (best weight and bias value) as it has minimum cost function.\n",
    "\n",
    "Step 4: Build the Predict funtion to determine the class of a data point."
   ]
  },
  {
   "cell_type": "code",
   "execution_count": null,
   "metadata": {},
   "outputs": [],
   "source": [
    "class Logistic_Regression():\n",
    "\n",
    "    def __init__():\n",
    "\n",
    "    def fit():\n",
    "\n",
    "    def update_weights():\n",
    "\n",
    "    def predict():"
   ]
  }
 ],
 "metadata": {
  "kernelspec": {
   "display_name": "Python 3",
   "language": "python",
   "name": "python3"
  },
  "language_info": {
   "codemirror_mode": {
    "name": "ipython",
    "version": 3
   },
   "file_extension": ".py",
   "mimetype": "text/x-python",
   "name": "python",
   "nbconvert_exporter": "python",
   "pygments_lexer": "ipython3",
   "version": "3.13.2"
  }
 },
 "nbformat": 4,
 "nbformat_minor": 2
}
